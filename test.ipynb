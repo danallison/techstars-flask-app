{
 "cells": [
  {
   "cell_type": "code",
   "execution_count": 1,
   "id": "9842dc49",
   "metadata": {},
   "outputs": [],
   "source": [
    "import requests\n",
    "import json\n",
    "\n",
    "def print_json(obj):\n",
    "    print(json.dumps(obj, indent=4))"
   ]
  },
  {
   "cell_type": "markdown",
   "id": "6587d230",
   "metadata": {},
   "source": [
    "# `GET /`"
   ]
  },
  {
   "cell_type": "code",
   "execution_count": 2,
   "id": "87df5098",
   "metadata": {},
   "outputs": [
    {
     "name": "stdout",
     "output_type": "stream",
     "text": [
      "{\n",
      "    \"routes\": {\n",
      "        \"/\": {\n",
      "            \"GET\": {\n",
      "                \"params\": null,\n",
      "                \"returns\": \"json description of API routes\"\n",
      "            }\n",
      "        },\n",
      "        \"/records\": {\n",
      "            \"GET\": {\n",
      "                \"params\": null,\n",
      "                \"returns\": \"list of all records\"\n",
      "            },\n",
      "            \"POST\": {\n",
      "                \"params\": {\n",
      "                    \"text\": \"[string]\"\n",
      "                },\n",
      "                \"returns\": \"record object with ID\"\n",
      "            }\n",
      "        },\n",
      "        \"/records/<id>\": {\n",
      "            \"GET\": {\n",
      "                \"params\": null,\n",
      "                \"returns\": \"record object with matching ID, if it exists\"\n",
      "            }\n",
      "        }\n",
      "    }\n",
      "}\n"
     ]
    }
   ],
   "source": [
    "res = requests.get('http://flask_app:5000')\n",
    "response = res.json()\n",
    "\n",
    "assert(type(response['routes']) == dict)\n",
    "\n",
    "print_json(response)"
   ]
  },
  {
   "cell_type": "markdown",
   "id": "348d073f",
   "metadata": {},
   "source": [
    "# `POST /records`"
   ]
  },
  {
   "cell_type": "code",
   "execution_count": 3,
   "id": "b024a7fd",
   "metadata": {},
   "outputs": [
    {
     "name": "stdout",
     "output_type": "stream",
     "text": [
      "{\n",
      "    \"id\": 2,\n",
      "    \"text\": \"test 1\"\n",
      "}\n"
     ]
    }
   ],
   "source": [
    "params = {'text': 'test 1'}\n",
    "res = requests.post('http://flask_app:5000/records',\n",
    "                    data=json.dumps(params))\n",
    "record = res.json()\n",
    "\n",
    "assert(type(record['id']) == int)\n",
    "assert(record['text'] == params['text'])\n",
    "\n",
    "print_json(record)"
   ]
  },
  {
   "cell_type": "markdown",
   "id": "69ddd27a",
   "metadata": {},
   "source": [
    "# `GET /records`"
   ]
  },
  {
   "cell_type": "code",
   "execution_count": 4,
   "id": "5b0983c5",
   "metadata": {},
   "outputs": [
    {
     "name": "stdout",
     "output_type": "stream",
     "text": [
      "[\n",
      "    {\n",
      "        \"id\": 1,\n",
      "        \"text\": \"hello world\"\n",
      "    },\n",
      "    {\n",
      "        \"id\": 2,\n",
      "        \"text\": \"test 1\"\n",
      "    }\n",
      "]\n"
     ]
    }
   ],
   "source": [
    "res = requests.get('http://flask_app:5000/records')\n",
    "records = res.json()\n",
    "\n",
    "assert(type(records) == list)\n",
    "assert(type(records[0]['id']) == int)\n",
    "assert(type(records[0]['text']) == str)\n",
    "\n",
    "print_json(records)"
   ]
  },
  {
   "cell_type": "markdown",
   "id": "5523051a",
   "metadata": {},
   "source": [
    "# `GET /records/<id>`"
   ]
  },
  {
   "cell_type": "code",
   "execution_count": 5,
   "id": "664ac2fc",
   "metadata": {},
   "outputs": [
    {
     "name": "stdout",
     "output_type": "stream",
     "text": [
      "{\n",
      "    \"id\": 1,\n",
      "    \"text\": \"hello world\"\n",
      "}\n"
     ]
    }
   ],
   "source": [
    "id = 1\n",
    "res = requests.get(f'http://flask_app:5000/records/{id}')\n",
    "record = res.json()\n",
    "\n",
    "assert(record['id'] == id)\n",
    "assert(type(record['text']) == str)\n",
    "\n",
    "print_json(record)"
   ]
  },
  {
   "cell_type": "code",
   "execution_count": null,
   "id": "27db6ff2",
   "metadata": {},
   "outputs": [],
   "source": []
  }
 ],
 "metadata": {
  "kernelspec": {
   "display_name": "Python 3 (ipykernel)",
   "language": "python",
   "name": "python3"
  },
  "language_info": {
   "codemirror_mode": {
    "name": "ipython",
    "version": 3
   },
   "file_extension": ".py",
   "mimetype": "text/x-python",
   "name": "python",
   "nbconvert_exporter": "python",
   "pygments_lexer": "ipython3",
   "version": "3.10.0"
  }
 },
 "nbformat": 4,
 "nbformat_minor": 5
}
