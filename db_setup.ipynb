{
 "cells": [
  {
   "cell_type": "code",
   "execution_count": 1,
   "id": "457f9dc5",
   "metadata": {},
   "outputs": [],
   "source": [
    "import sqlite3\n",
    "\n",
    "conn = sqlite3.connect('database.db')\n",
    "cur = conn.cursor()"
   ]
  },
  {
   "cell_type": "markdown",
   "id": "8682640d",
   "metadata": {},
   "source": [
    "# Create DB"
   ]
  },
  {
   "cell_type": "code",
   "execution_count": 2,
   "id": "33e21f57",
   "metadata": {},
   "outputs": [
    {
     "data": {
      "text/plain": [
       "[('CREATE TABLE records (id INTEGER PRIMARY KEY ASC, text TEXT)',)]"
      ]
     },
     "execution_count": 2,
     "metadata": {},
     "output_type": "execute_result"
    }
   ],
   "source": [
    "cur.execute('DROP TABLE IF EXISTS records')\n",
    "cur.execute('CREATE TABLE records (id INTEGER PRIMARY KEY ASC, text TEXT)')\n",
    "cur.execute(\"SELECT sql FROM sqlite_master WHERE name = ?\", ('records',)).fetchall()"
   ]
  },
  {
   "cell_type": "markdown",
   "id": "04911dbf",
   "metadata": {},
   "source": [
    "# Insert 1 row"
   ]
  },
  {
   "cell_type": "code",
   "execution_count": 3,
   "id": "f8b9f7cc",
   "metadata": {},
   "outputs": [],
   "source": [
    "cur.execute(\"INSERT INTO records (text) VALUES (?)\", (\"hello world\",))\n",
    "conn.commit()"
   ]
  },
  {
   "cell_type": "code",
   "execution_count": 4,
   "id": "586dd30b",
   "metadata": {},
   "outputs": [
    {
     "data": {
      "text/plain": [
       "[(1, 'hello world')]"
      ]
     },
     "execution_count": 4,
     "metadata": {},
     "output_type": "execute_result"
    }
   ],
   "source": [
    "cur.execute(\"SELECT * FROM records\").fetchall()"
   ]
  },
  {
   "cell_type": "markdown",
   "id": "f0b0ae8a",
   "metadata": {},
   "source": [
    "# Close connection"
   ]
  },
  {
   "cell_type": "code",
   "execution_count": 5,
   "id": "3530706c",
   "metadata": {},
   "outputs": [],
   "source": [
    "conn.close()"
   ]
  },
  {
   "cell_type": "code",
   "execution_count": null,
   "id": "d135b5ba",
   "metadata": {},
   "outputs": [],
   "source": []
  }
 ],
 "metadata": {
  "kernelspec": {
   "display_name": "Python 3 (ipykernel)",
   "language": "python",
   "name": "python3"
  },
  "language_info": {
   "codemirror_mode": {
    "name": "ipython",
    "version": 3
   },
   "file_extension": ".py",
   "mimetype": "text/x-python",
   "name": "python",
   "nbconvert_exporter": "python",
   "pygments_lexer": "ipython3",
   "version": "3.10.0"
  }
 },
 "nbformat": 4,
 "nbformat_minor": 5
}
